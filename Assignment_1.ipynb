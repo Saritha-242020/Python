{
  "nbformat": 4,
  "nbformat_minor": 0,
  "metadata": {
    "colab": {
      "provenance": []
    },
    "kernelspec": {
      "name": "python3",
      "display_name": "Python 3"
    },
    "language_info": {
      "name": "python"
    }
  },
  "cells": [
    {
      "cell_type": "markdown",
      "source": [
        "# Python Fundamentals\n"
      ],
      "metadata": {
        "id": "I8owpKSCSKP_"
      }
    },
    {
      "cell_type": "code",
      "source": [],
      "metadata": {
        "id": "wv68pi7wSVUe"
      },
      "execution_count": null,
      "outputs": []
    },
    {
      "cell_type": "markdown",
      "source": [
        "1. Write Python code that prints your name, student number and email address.  "
      ],
      "metadata": {
        "id": "RKOKgI9oSoV9"
      }
    },
    {
      "cell_type": "code",
      "source": [
        "n ='Bob'\n",
        "ID = 'ST1001'\n",
        "e= 'bob@gmail.com'\n",
        "print('Name :',n)\n",
        "print('Student Number :',ID)\n",
        "print('Email :',e)"
      ],
      "metadata": {
        "colab": {
          "base_uri": "https://localhost:8080/"
        },
        "id": "h-UjXHwESrty",
        "outputId": "8d1e0f65-a765-4a2f-da2c-1fcf7dc5e23e"
      },
      "execution_count": null,
      "outputs": [
        {
          "output_type": "stream",
          "name": "stdout",
          "text": [
            "Name : Bob\n",
            "Student Number : ST1001\n",
            "Email : bob@gmail.com\n"
          ]
        }
      ]
    },
    {
      "cell_type": "code",
      "source": [],
      "metadata": {
        "id": "8dRYDzuSJxby"
      },
      "execution_count": null,
      "outputs": []
    },
    {
      "cell_type": "markdown",
      "source": [
        "2. Write Python code that prints your name, student number and email address using escape sequences."
      ],
      "metadata": {
        "id": "_hk3wUCbLei7"
      }
    },
    {
      "cell_type": "code",
      "source": [
        "n ='Bob'\n",
        "ID = 'ST1001'\n",
        "e= 'bob@gmail.com'\n",
        "print('Name :',n,'\\nStudent Number :',ID,'\\nEmail :',e)"
      ],
      "metadata": {
        "colab": {
          "base_uri": "https://localhost:8080/"
        },
        "id": "N6inEG3oLoJC",
        "outputId": "02af4045-41ef-457b-c38d-98673587c7a4"
      },
      "execution_count": null,
      "outputs": [
        {
          "output_type": "stream",
          "name": "stdout",
          "text": [
            "Name : Bob \n",
            "Student Number : ST1001 \n",
            "Email : bob@gmail.com\n"
          ]
        }
      ]
    },
    {
      "cell_type": "code",
      "source": [],
      "metadata": {
        "id": "yZIXZMzCMTT3"
      },
      "execution_count": null,
      "outputs": []
    },
    {
      "cell_type": "markdown",
      "source": [
        "3. Write Python code that add, subtract, multiply and divide the two numbers. You can use the two numbers 14 and 7."
      ],
      "metadata": {
        "id": "9T1jpp9PNsxJ"
      }
    },
    {
      "cell_type": "code",
      "source": [
        "x=14\n",
        "y=7\n",
        "a=x+y\n",
        "s=x-y\n",
        "m=x*y\n",
        "d=x/y\n",
        "print('Sum of x and y is :',a)\n",
        "print('Difference between x and y is :',s)\n",
        "print('Product of x and y is :',m)\n",
        "print('Quotient of x and y is :',d)"
      ],
      "metadata": {
        "colab": {
          "base_uri": "https://localhost:8080/"
        },
        "id": "LdDzgB_yNvCh",
        "outputId": "0dbc8f23-0642-4022-d214-03d6f2eef30c"
      },
      "execution_count": null,
      "outputs": [
        {
          "output_type": "stream",
          "name": "stdout",
          "text": [
            "Sum of x and y is : 21\n",
            "Difference between x and y is : 7\n",
            "Product of x and y is : 98\n",
            "Quotient of x and y is : 2.0\n"
          ]
        }
      ]
    },
    {
      "cell_type": "code",
      "source": [],
      "metadata": {
        "id": "d2YnfgotPEeO"
      },
      "execution_count": null,
      "outputs": []
    },
    {
      "cell_type": "markdown",
      "source": [
        "4. Write Python code that displays the numbers from 1 to 5 as steps."
      ],
      "metadata": {
        "id": "44iYFLi9PX14"
      }
    },
    {
      "cell_type": "code",
      "source": [
        "for i in range(1,6):\n",
        "    print(i)"
      ],
      "metadata": {
        "colab": {
          "base_uri": "https://localhost:8080/"
        },
        "id": "Vd97we7eRPe4",
        "outputId": "698a1499-292a-472a-e90b-7c3b4b0cf514"
      },
      "execution_count": null,
      "outputs": [
        {
          "output_type": "stream",
          "name": "stdout",
          "text": [
            "1\n",
            "2\n",
            "3\n",
            "4\n",
            "5\n"
          ]
        }
      ]
    },
    {
      "cell_type": "code",
      "source": [],
      "metadata": {
        "id": "2TDzXUKFRY_1"
      },
      "execution_count": null,
      "outputs": []
    },
    {
      "cell_type": "markdown",
      "source": [
        "5. Write Python code that outputs the following sentence (including the quotation marks and line break) to the screen:\n"
      ],
      "metadata": {
        "id": "3ujPho45ReTk"
      }
    },
    {
      "cell_type": "code",
      "source": [
        "SDK ='\"Software Development Kit\"'\n",
        "IDE ='\"Integrated Development Environment\"'\n",
        "print('\"SDK\" stands for',SDK)\n",
        "print('\"IDE\" stands for',IDE)"
      ],
      "metadata": {
        "colab": {
          "base_uri": "https://localhost:8080/"
        },
        "id": "IlszVPndRyHs",
        "outputId": "dbd4aed2-1b80-47dc-d3bb-61a6a2e323ee"
      },
      "execution_count": null,
      "outputs": [
        {
          "output_type": "stream",
          "name": "stdout",
          "text": [
            "\"SDK\" stands for \"Software Development Kit\"\n",
            "\"IDE\" stands for \"Integrated Development Environment\"\n"
          ]
        }
      ]
    },
    {
      "cell_type": "code",
      "source": [],
      "metadata": {
        "id": "ILMIWo_-Vxly"
      },
      "execution_count": null,
      "outputs": []
    },
    {
      "cell_type": "markdown",
      "source": [
        "6. Practice and check the output.\n",
        "print(\"python is an \\\"awesome\\\" language.\")\n",
        "print(\"python\\n\\t2023\")\n",
        "print('I\\'m from Entri.\\b')\n",
        "print(\"\\65\")\n",
        "print(\"\\x65\")\n",
        "print(\"Entri\", \"2023\", sep=\"\\n\")\n",
        "print(\"Entri\", \"2023\", sep=\"\\b\")\n",
        "print(\"Entri\", \"2023\", sep=\"*\", end=\"\\b\\b\\b\\b\")\n"
      ],
      "metadata": {
        "id": "LcxZ001vV1uF"
      }
    },
    {
      "cell_type": "code",
      "source": [
        " print('\"python is an \"awesome\" language.\"')\n",
        " print('\"python\\n\\t2023\"')\n",
        " print(\"'I'm from Entri.\\b'\")\n",
        " print(\"\\65\")\n",
        " print(\"\\x65\")\n",
        " print('\"Entri\", \"2023\", sep=\"\\n\"')\n",
        " print('\"Entri\", \"2023\", sep=\"\\b\"')\n",
        " print('\"Entri\", \"2023\", sep=\"*\", end=\"\\b\\b\\b\\b\"')"
      ],
      "metadata": {
        "colab": {
          "base_uri": "https://localhost:8080/"
        },
        "id": "jfcUBPFNWFa0",
        "outputId": "1c08f770-6bd2-4736-fd96-94ab3d14f994"
      },
      "execution_count": null,
      "outputs": [
        {
          "output_type": "stream",
          "name": "stdout",
          "text": [
            "\"python is an \"awesome\" language.\"\n",
            "\"python\n",
            "\t2023\"\n",
            "'I'm from Entri.\b'\n",
            "5\n",
            "e\n",
            "\"Entri\", \"2023\", sep=\"\n",
            "\"\n",
            "\"Entri\", \"2023\", sep=\"\b\"\n",
            "\"Entri\", \"2023\", sep=\"*\", end=\"\b\b\b\b\"\n"
          ]
        }
      ]
    },
    {
      "cell_type": "markdown",
      "source": [
        "7. Define the variables below. Print the types of each variable. What is the sum of your variables? (Hint: use a type conversion function.) What datatype is the sum?\n",
        "num=23\n",
        "textnum=\"57\"\n",
        "decimal=98.3\n"
      ],
      "metadata": {
        "id": "_lWf9N1dcqkU"
      }
    },
    {
      "cell_type": "code",
      "source": [
        "n=23\n",
        "t='57'\n",
        "d=98.3\n",
        "print(\"the type of num is:\",type(n))\n",
        "print(\"the type of textnum is :\",type(t))\n",
        "print(\"the type of decimal is :\",type(d))\n",
        "print(\"the sum of the variables is :\",n+int(t)+d)\n",
        "print(\"the type of sum is :\",type(n+int(t)+d))"
      ],
      "metadata": {
        "colab": {
          "base_uri": "https://localhost:8080/"
        },
        "id": "ndSgiql7cys0",
        "outputId": "5a52cac1-d3fc-4193-faff-0d64a2c9f509"
      },
      "execution_count": null,
      "outputs": [
        {
          "output_type": "stream",
          "name": "stdout",
          "text": [
            "the type of num is: <class 'int'>\n",
            "the type of textnum is : <class 'str'>\n",
            "the type of decimal is : <class 'float'>\n",
            "the sum of the variables is : 178.3\n",
            "the type of sum is : <class 'float'>\n"
          ]
        }
      ]
    },
    {
      "cell_type": "markdown",
      "source": [
        "8. Calculate the number of minutes in a year using variables for each unit of time. print a statement that describes what your code does also. Create three variables to store no of days in a year, minute in a hour, hours in a day, then calculate the total minutes in a year and print the values\n",
        "(hint) total number of minutes in an year =No.of days in an year * Hours in a day * Minutes in an hour\n"
      ],
      "metadata": {
        "id": "_EINa_VDft56"
      }
    },
    {
      "cell_type": "code",
      "source": [
        "d=365 # no.of days in an year\n",
        "h=24 # hours in a day\n",
        "m=60 # minutes in an hour\n",
        "print(\"The number of days in a year is :\",d)\n",
        "print(\"The number of hours in a day is :\",h)\n",
        "print(\"The number of minutes in an hour is :\",m)\n",
        "t=d*h*m\n",
        "print(\"The number of minutes in a year is :\",t)"
      ],
      "metadata": {
        "colab": {
          "base_uri": "https://localhost:8080/"
        },
        "id": "XWQLa8T_exNh",
        "outputId": "c0c1d883-d547-473b-e3d7-173e73ed87af"
      },
      "execution_count": null,
      "outputs": [
        {
          "output_type": "stream",
          "name": "stdout",
          "text": [
            "The number of days in a year is : 365\n",
            "The number of hours in a day is : 24\n",
            "The number of minutes in an hour is : 60\n",
            "The number of minutes in a year is : 525600\n"
          ]
        }
      ]
    },
    {
      "cell_type": "markdown",
      "source": [
        "9. Write Python code that asks the user to enter his/her name and then output/prints his/her name with a greeting.\n"
      ],
      "metadata": {
        "id": "iPOhm9fv-PRZ"
      }
    },
    {
      "cell_type": "code",
      "source": [
        "  name = input(\"Enter your name: \")\n",
        "  print(\"Hi,\", name,\",welcome to Python programming\")\n"
      ],
      "metadata": {
        "colab": {
          "base_uri": "https://localhost:8080/"
        },
        "id": "KzPZ2C4r-SxD",
        "outputId": "0ecf8c09-7cdc-48ba-8eda-6c2d9c78bdec"
      },
      "execution_count": null,
      "outputs": [
        {
          "output_type": "stream",
          "name": "stdout",
          "text": [
            "Enter your name: Tony\n",
            "Hi, Tony ,welcome to Python programming\n"
          ]
        }
      ]
    },
    {
      "cell_type": "markdown",
      "source": [
        "10. Name your file: PoundsToDollars.py\n",
        "Write a program that asks the user to enter an amount in pounds (£) and the program calculates and converts an amount in dollar ($)\n"
      ],
      "metadata": {
        "id": "rPgZ8SQR_5qe"
      }
    },
    {
      "cell_type": "code",
      "source": [
        "# Execute the entire .py file\n",
        "with open('PoundsToDollars.py') as file:\n",
        "    exec(file.read())\n"
      ],
      "metadata": {
        "id": "DShQ3z1Mw35W",
        "colab": {
          "base_uri": "https://localhost:8080/"
        },
        "outputId": "c8c7498f-b519-4079-f433-da766c9402bd"
      },
      "execution_count": 34,
      "outputs": [
        {
          "output_type": "stream",
          "name": "stdout",
          "text": [
            "Please enter amount in pounds: £1\n",
            "£1.0 are $1.27\n"
          ]
        }
      ]
    },
    {
      "cell_type": "code",
      "source": [],
      "metadata": {
        "id": "RgPfxZOBzXcs"
      },
      "execution_count": 34,
      "outputs": []
    }
  ]
}