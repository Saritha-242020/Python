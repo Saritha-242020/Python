{
  "nbformat": 4,
  "nbformat_minor": 0,
  "metadata": {
    "colab": {
      "provenance": [],
      "authorship_tag": "ABX9TyPjXO4yn7/1G/U2P5LmySk4",
      "include_colab_link": true
    },
    "kernelspec": {
      "name": "python3",
      "display_name": "Python 3"
    },
    "language_info": {
      "name": "python"
    }
  },
  "cells": [
    {
      "cell_type": "markdown",
      "metadata": {
        "id": "view-in-github",
        "colab_type": "text"
      },
      "source": [
        "<a href=\"https://colab.research.google.com/github/Saritha-242020/Python/blob/main/Assignment_5_File_and_Exception_Handling.ipynb\" target=\"_parent\"><img src=\"https://colab.research.google.com/assets/colab-badge.svg\" alt=\"Open In Colab\"/></a>"
      ]
    },
    {
      "cell_type": "markdown",
      "source": [
        "1. Write a Python program to read a file and display its contents\n"
      ],
      "metadata": {
        "id": "D9_M9mniCGtU"
      }
    },
    {
      "cell_type": "code",
      "execution_count": 3,
      "metadata": {
        "id": "Ki2BAzZ4Bh6y",
        "colab": {
          "base_uri": "https://localhost:8080/"
        },
        "outputId": "48cba1e8-92f7-4277-9dbb-20d669614add"
      },
      "outputs": [
        {
          "output_type": "stream",
          "name": "stdout",
          "text": [
            "Enter the filename: MonthNames.ipynb\n",
            "Error: File not found.\n"
          ]
        }
      ],
      "source": [
        "# Ask the user for the filename\n",
        "filename = input(\"Enter the filename: \")\n",
        "\n",
        "try:\n",
        "    # Open the file in read mode\n",
        "    with open(filename, 'r') as file:\n",
        "        contents = file.read()\n",
        "        print(\"\\n--- File Contents ---\")\n",
        "        print(contents)\n",
        "except FileNotFoundError:\n",
        "    print(\"Error: File not found.\")\n",
        "except Exception as e:\n",
        "    print(f\"An error occurred: {e}\")\n"
      ]
    },
    {
      "cell_type": "markdown",
      "source": [
        "2. Write a Python program to copy the contents of one file to another file"
      ],
      "metadata": {
        "id": "IAPQCvuv8qRI"
      }
    },
    {
      "cell_type": "code",
      "source": [
        "# Prompt the user for source and destination filenames\n",
        "source_file = input(\"Enter the source filename: \")\n",
        "destination_file = input(\"Enter the destination filename: \")\n",
        "\n",
        "try:\n",
        "    # Open the source file in read mode and destination in write mode\n",
        "    with open(source_file, 'r') as src, open(destination_file, 'w') as dest:\n",
        "        contents = src.read()\n",
        "        dest.write(contents)\n",
        "    print(f\"Contents copied from '{source_file}' to '{destination_file}' successfully.\")\n",
        "except FileNotFoundError:\n",
        "    print(\"Error: Source file not found.\")\n",
        "except Exception as e:\n",
        "    print(f\"An error occurred: {e}\")\n"
      ],
      "metadata": {
        "id": "Ij1WmfxZ5S13",
        "colab": {
          "base_uri": "https://localhost:8080/"
        },
        "outputId": "1f6a57dc-7085-40c1-d4ed-6722bd7f1fcd"
      },
      "execution_count": 4,
      "outputs": [
        {
          "output_type": "stream",
          "name": "stdout",
          "text": [
            "Enter the source filename: PoundsToDollars.py\n",
            "Enter the destination filename: Assignment_5_File and Exception Handling.ipynb\n",
            "Error: Source file not found.\n"
          ]
        }
      ]
    },
    {
      "cell_type": "markdown",
      "source": [
        "3.Write a Python program to read the content of a file and count the total number of words in that file."
      ],
      "metadata": {
        "id": "3U1q4GyV9mVx"
      }
    },
    {
      "cell_type": "code",
      "source": [
        "# Ask the user to enter the filename\n",
        "filename = input(\"Enter the filename: \")\n",
        "\n",
        "try:\n",
        "    # Open the file in read mode\n",
        "    with open(filename, 'r') as file:\n",
        "        content = file.read()\n",
        "\n",
        "        # Split content into words using whitespace\n",
        "        words = content.split()\n",
        "\n",
        "        # Count the number of words\n",
        "        word_count = len(words)\n",
        "\n",
        "        print(f\"\\nTotal number of words in '{filename}': {word_count}\")\n",
        "except FileNotFoundError:\n",
        "    print(\"Error: File not found.\")\n",
        "except Exception as e:\n",
        "    print(f\"An error occurred: {e}\")\n"
      ],
      "metadata": {
        "colab": {
          "base_uri": "https://localhost:8080/"
        },
        "id": "OzpLy-Gf9uBC",
        "outputId": "06fe1d8d-db17-4510-8d21-0b793643f0ec"
      },
      "execution_count": 8,
      "outputs": [
        {
          "output_type": "stream",
          "name": "stdout",
          "text": [
            "Enter the filename: ABC\n",
            "Error: File not found.\n"
          ]
        }
      ]
    },
    {
      "cell_type": "markdown",
      "source": [
        "4.Write a Python program that prompts the user to input a string and converts it to an integer. Use try-except blocks to handle any exceptions that might occur"
      ],
      "metadata": {
        "id": "OK8scxoV-ec4"
      }
    },
    {
      "cell_type": "code",
      "source": [
        "# Prompt the user for input\n",
        "user_input = input(\"Enter a number: \")\n",
        "\n",
        "try:\n",
        "    # Attempt to convert the input to an integer\n",
        "    number = int(user_input)\n",
        "    print(f\"The integer value is: {number}\")\n",
        "except ValueError:\n",
        "    # Handle the case where conversion fails\n",
        "    print(\"Error: That is not a valid integer.\")\n"
      ],
      "metadata": {
        "colab": {
          "base_uri": "https://localhost:8080/"
        },
        "id": "s0sV1fmM_UHO",
        "outputId": "ce74cc33-7638-4ab1-d348-665ae14327ea"
      },
      "execution_count": 9,
      "outputs": [
        {
          "output_type": "stream",
          "name": "stdout",
          "text": [
            "Enter a number: 12\n",
            "The integer value is: 12\n"
          ]
        }
      ]
    },
    {
      "cell_type": "markdown",
      "source": [
        "5.Write a Python program that prompts the user to input a list of integers and raises an exception if any of the integers in the list are negative."
      ],
      "metadata": {
        "id": "QBEuALyfCOoR"
      }
    },
    {
      "cell_type": "code",
      "source": [
        "# Prompt the user to enter a list of integers separated by spaces\n",
        "user_input = input(\"Enter a list of integers separated by spaces: \")\n",
        "\n",
        "try:\n",
        "    # Convert the input string into a list of integers\n",
        "    numbers = [int(x) for x in user_input.split()]\n",
        "\n",
        "    # Check for negative numbers\n",
        "    for num in numbers:\n",
        "        if num < 0:\n",
        "            raise ValueError(f\"Negative number found: {num}\")\n",
        "\n",
        "    print(\"All numbers are non-negative:\", numbers)\n",
        "\n",
        "except ValueError as e:\n",
        "    print(\"Error:\", e)\n"
      ],
      "metadata": {
        "colab": {
          "base_uri": "https://localhost:8080/"
        },
        "id": "3VSLcejzCU9L",
        "outputId": "4f0ba36b-f877-4848-9b74-70d5eb332ea5"
      },
      "execution_count": 11,
      "outputs": [
        {
          "output_type": "stream",
          "name": "stdout",
          "text": [
            "Enter a list of integers separated by spaces: -2 -1 10\n",
            "Error: Negative number found: -2\n"
          ]
        }
      ]
    },
    {
      "cell_type": "markdown",
      "source": [
        "6.Write a Python program that prompts the user to input a list of integers and computes the average of those integers. Use try-except blocks to handle any exceptions that might occur.use the finally clause to print a message indicating that the program has finished running."
      ],
      "metadata": {
        "id": "sLf7H26AC6Ie"
      }
    },
    {
      "cell_type": "code",
      "source": [
        "try:\n",
        "    # Prompt user for input\n",
        "    user_input = input(\"Enter a list of integers separated by spaces: \")\n",
        "\n",
        "    # Convert input to a list of integers\n",
        "    numbers = [int(x) for x in user_input.split()]\n",
        "\n",
        "    # Check if the list is not empty\n",
        "    if not numbers:\n",
        "        raise ValueError(\"List is empty. Please enter at least one number.\")\n",
        "\n",
        "    # Compute the average\n",
        "    average = sum(numbers) / len(numbers)\n",
        "    print(f\"The average of the numbers is: {average}\")\n",
        "\n",
        "except ValueError as ve:\n",
        "    print(\"ValueError:\", ve)\n",
        "except Exception as e:\n",
        "    print(\"An unexpected error occurred:\", e)\n",
        "finally:\n",
        "    print(\"Program has finished running.\")\n",
        "try:\n",
        "    # Prompt user for input\n",
        "    user_input = input(\"Enter a list of integers separated by spaces: \")\n",
        "\n",
        "    # Convert input to a list of integers\n",
        "    numbers = [int(x) for x in user_input.split()]\n",
        "\n",
        "    # Check if the list is not empty\n",
        "    if not numbers:\n",
        "        raise ValueError(\"List is empty. Please enter at least one number.\")\n",
        "\n",
        "    # Compute the average\n",
        "    average = sum(numbers) / len(numbers)\n",
        "    print(f\"The average of the numbers is: {average}\")\n",
        "\n",
        "except ValueError as ve:\n",
        "    print(\"ValueError:\", ve)\n",
        "except Exception as e:\n",
        "    print(\"An unexpected error occurred:\", e)\n",
        "finally:\n",
        "    print(\"Program has finished running.\")\n"
      ],
      "metadata": {
        "colab": {
          "base_uri": "https://localhost:8080/"
        },
        "id": "VjPPg-mKDEqT",
        "outputId": "10c7c188-901c-4414-ce6c-7739b264a775"
      },
      "execution_count": 12,
      "outputs": [
        {
          "output_type": "stream",
          "name": "stdout",
          "text": [
            "Enter a list of integers separated by spaces: 5 10 15 20\n",
            "The average of the numbers is: 12.5\n",
            "Program has finished running.\n",
            "Enter a list of integers separated by spaces: \n",
            "ValueError: List is empty. Please enter at least one number.\n",
            "Program has finished running.\n"
          ]
        }
      ]
    },
    {
      "cell_type": "markdown",
      "source": [
        "7.Write a Python program that prompts the user to input a filename and writes a string to that file. Use try-except blocks to handle any exceptions that might occur and print a welcome message if there is no exception occurred.\n",
        "\n"
      ],
      "metadata": {
        "id": "v9zI0jqoDc-K"
      }
    },
    {
      "cell_type": "code",
      "source": [
        "try:\n",
        "    # Ask user for the filename\n",
        "    filename = input(\"Enter the filename to write to: \")\n",
        "\n",
        "    # Open the file in write mode and write a string\n",
        "    with open(filename, 'w') as file:\n",
        "        file.write(\"Welcome to Python file handling!\")\n",
        "\n",
        "    # If successful, print welcome message\n",
        "    print(f\"File '{filename}' written successfully. Welcome!\")\n",
        "\n",
        "except Exception as e:\n",
        "    # Handle any error that occurs\n",
        "    print(\"An error occurred while writing to the file:\", e)\n"
      ],
      "metadata": {
        "colab": {
          "base_uri": "https://localhost:8080/"
        },
        "id": "wh4wB8xgDibj",
        "outputId": "7133d9ae-fb66-4dc1-d36a-90ceb9b4d42c"
      },
      "execution_count": 13,
      "outputs": [
        {
          "output_type": "stream",
          "name": "stdout",
          "text": [
            "Enter the filename to write to: MonthNames.py\n",
            "File 'MonthNames.py' written successfully. Welcome!\n"
          ]
        }
      ]
    }
  ]
}