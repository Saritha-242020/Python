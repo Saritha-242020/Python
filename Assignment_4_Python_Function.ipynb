{
  "nbformat": 4,
  "nbformat_minor": 0,
  "metadata": {
    "colab": {
      "provenance": []
    },
    "kernelspec": {
      "name": "python3",
      "display_name": "Python 3"
    },
    "language_info": {
      "name": "python"
    }
  },
  "cells": [
    {
      "cell_type": "markdown",
      "source": [
        " 1. Create a function that takes in three arguments, two of which are optional. The first argument should be a required positional argument, the second argument should be a keyword argument with a default value of 10, and the third argument should be a keyword argument with a default value of None. The function should print the sum of the first two arguments if the third argument is None, and print the product of all three arguments if the third argument is not None."
      ],
      "metadata": {
        "id": "DAv-JfgyS63u"
      }
    },
    {
      "cell_type": "code",
      "execution_count": 30,
      "metadata": {
        "colab": {
          "base_uri": "https://localhost:8080/"
        },
        "id": "cI7IiTjOSylc",
        "outputId": "1c906674-84d5-4d77-d48a-f8e5aa37e584"
      },
      "outputs": [
        {
          "output_type": "stream",
          "name": "stdout",
          "text": [
            "Enter a value:5\n",
            "1st argument: 5\n",
            "2nd argument: 10\n",
            "Enter a value:2\n",
            "3rd argument: 2\n",
            "100\n"
          ]
        }
      ],
      "source": [
        "value = input('Enter a value:')\n",
        "print('1st argument:',value)\n",
        "factor=10\n",
        "print('2nd argument:',factor)\n",
        "multiplier=input('Enter a value:')\n",
        "print('3rd argument:',multiplier)\n",
        "def calculate():\n",
        "    # Check if multiplier is an empty string or \"none\" before attempting conversion\n",
        "    if multiplier.lower() in['', 'none']:\n",
        "        print(int(value)+factor)\n",
        "    else:\n",
        "        print(int(value)*factor*int(multiplier))\n",
        "calculate()\n"
      ]
    },
    {
      "cell_type": "markdown",
      "source": [
        "2. Write a function that takes in a list of strings and returns a new list with only the strings that have a length greater than or equal to 5."
      ],
      "metadata": {
        "id": "TVv38wKbweJF"
      }
    },
    {
      "cell_type": "code",
      "source": [
        "def fruit_names(fruit_list=['Apple','Plum','Orange','Grapes','Mango']):\n",
        "  print('List of fruits:',fruit_list)\n",
        "  new_list=[]\n",
        "  for fruit in fruit_list:\n",
        "        if len(fruit)>=5:\n",
        "            new_list.append(fruit)\n",
        "  return new_list\n",
        "print('The list of fruits whose length is greater than or equal to 5:',fruit_names())\n",
        "\n",
        "\n"
      ],
      "metadata": {
        "id": "mQFJFtI78zZC",
        "colab": {
          "base_uri": "https://localhost:8080/"
        },
        "outputId": "33ecba66-7ea9-430c-b15e-538ffb50b233"
      },
      "execution_count": 51,
      "outputs": [
        {
          "output_type": "stream",
          "name": "stdout",
          "text": [
            "List of fruits: ['Apple', 'Plum', 'Orange', 'Grapes', 'Mango']\n",
            "The list of fruits whose length is greater than or equal to 5: ['Apple', 'Orange', 'Grapes', 'Mango']\n"
          ]
        }
      ]
    },
    {
      "cell_type": "markdown",
      "source": [
        "3. Write a Python program to evaluate a given mathematical expression using the eval() function. expression = \"3 * 5 + 2\""
      ],
      "metadata": {
        "id": "7iVJ1il91axE"
      }
    },
    {
      "cell_type": "code",
      "source": [
        "expression = \"3 * 5 + 2\"\n",
        "result=__builtins__.eval(expression)\n",
        "print(result)"
      ],
      "metadata": {
        "colab": {
          "base_uri": "https://localhost:8080/"
        },
        "id": "NGsY7z6P21y0",
        "outputId": "f7f0aef5-1703-4bb0-c819-6654b3c26c22"
      },
      "execution_count": 77,
      "outputs": [
        {
          "output_type": "stream",
          "name": "stdout",
          "text": [
            "17\n"
          ]
        }
      ]
    },
    {
      "cell_type": "markdown",
      "source": [
        "4. Write a Python program to filter out the prime numbers from a given list of integers using the filter() function."
      ],
      "metadata": {
        "id": "Tg8M6KOP8NWV"
      }
    },
    {
      "cell_type": "code",
      "source": [
        "# Define a list of integers\n",
        "numbers = [1, 2, 3, 4, 5, 6, 7, 8, 9, 10, 11, 12, 13, 14, 15, 16, 17]\n",
        "print(\"List of integers:\")\n",
        "print(numbers)\n",
        "# Define a function to check if a number is prime\n",
        "def is_prime(n):\n",
        "    if n <= 1:\n",
        "        return False\n",
        "    if n <= 3:\n",
        "        return True\n",
        "    if n % 2 == 0 or n % 3 == 0:\n",
        "        return False\n",
        "    i = 5\n",
        "    while i * i <= n:\n",
        "        if n % i == 0 or n % (i + 2) == 0:\n",
        "            return False\n",
        "        i += 6\n",
        "    return True\n",
        "# Use the filter function to extract prime numbers\n",
        "prime_numbers = list(filter(is_prime, numbers))\n",
        "print(\"Prime numbers from the list is:\")\n",
        "# Print the extracted prime numbers\n",
        "print(prime_numbers)\n",
        "\n"
      ],
      "metadata": {
        "colab": {
          "base_uri": "https://localhost:8080/"
        },
        "id": "tbEAEkbk7y3J",
        "outputId": "3a84b4b4-4e29-48f4-d03b-c02140ee0416"
      },
      "execution_count": 79,
      "outputs": [
        {
          "output_type": "stream",
          "name": "stdout",
          "text": [
            "List of integers:\n",
            "[1, 2, 3, 4, 5, 6, 7, 8, 9, 10, 11, 12, 13, 14, 15, 16, 17]\n",
            "Prime numbers from the list is:\n",
            "[2, 3, 5, 7, 11, 13, 17]\n"
          ]
        }
      ]
    },
    {
      "cell_type": "markdown",
      "source": [
        "5. Write a Python program to convert a list of strings to uppercase using the map() function."
      ],
      "metadata": {
        "id": "iGVNJGsx9m5o"
      }
    },
    {
      "cell_type": "code",
      "source": [
        "s1 = ['Welcome', 'to', 'the','World','of','Coding']\n",
        "print(s1)\n",
        "s2 = list(map(str.upper, s1))\n",
        "print(s2)"
      ],
      "metadata": {
        "colab": {
          "base_uri": "https://localhost:8080/"
        },
        "id": "c75TQ52X9Yhz",
        "outputId": "a7e7c094-a069-4a22-d696-3aba55ce878c"
      },
      "execution_count": 80,
      "outputs": [
        {
          "output_type": "stream",
          "name": "stdout",
          "text": [
            "['Welcome', 'to', 'the', 'World', 'of', 'Coding']\n",
            "['WELCOME', 'TO', 'THE', 'WORLD', 'OF', 'CODING']\n"
          ]
        }
      ]
    },
    {
      "cell_type": "code",
      "source": [],
      "metadata": {
        "id": "7GTy465R_hPL"
      },
      "execution_count": null,
      "outputs": []
    }
  ]
}