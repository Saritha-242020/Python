{
  "nbformat": 4,
  "nbformat_minor": 0,
  "metadata": {
    "colab": {
      "provenance": [],
      "authorship_tag": "ABX9TyPVfnhlT2gbReCIKTTTZz7o",
      "include_colab_link": true
    },
    "kernelspec": {
      "name": "python3",
      "display_name": "Python 3"
    },
    "language_info": {
      "name": "python"
    }
  },
  "cells": [
    {
      "cell_type": "markdown",
      "metadata": {
        "id": "view-in-github",
        "colab_type": "text"
      },
      "source": [
        "<a href=\"https://colab.research.google.com/github/Saritha-242020/Python/blob/main/Python_Part6_Assignment_OOPS.ipynb\" target=\"_parent\"><img src=\"https://colab.research.google.com/assets/colab-badge.svg\" alt=\"Open In Colab\"/></a>"
      ]
    },
    {
      "cell_type": "markdown",
      "source": [
        "1.Build a program to manage a university's course catalog. You want to define a base class Course that has the following properties: course_code: a string representing the course code (e.g., \"CS101\") course_name: a string representing the course name (e.g., \"Introduction to Computer Science\") credit_hours: an integer representing the credit hours for the course (e.g., 3) You also want to define two subclasses CoreCourse and ElectiveCourse, which inherit from the Course class. CoreCourse should have an additional property required_for_major which is a boolean representing whether the course is required for a particular major. ElectiveCourse should have an additional property elective_type which is a string representing the type of elective (e.g., \"general\", \"technical\", \"liberal arts\")."
      ],
      "metadata": {
        "id": "oeBBvX2PEx-V"
      }
    },
    {
      "cell_type": "code",
      "execution_count": 6,
      "metadata": {
        "colab": {
          "base_uri": "https://localhost:8080/"
        },
        "id": "yqWpxf6mEkoA",
        "outputId": "a9d3d2f2-dadd-4aa3-fee2-db383d209b8d"
      },
      "outputs": [
        {
          "output_type": "stream",
          "name": "stdout",
          "text": [
            "Core Course:\n",
            "Course Code: CS101\n",
            "Course Name: Introduction to Computer Science\n",
            "Credit Hours: 3\n",
            "Required for Major: Yes\n",
            "\n",
            "Elective Course:\n",
            "Course Code: ART201\n",
            "Course Name: Modern Art History\n",
            "Credit Hours: 2\n",
            "Elective Type: liberal arts\n"
          ]
        }
      ],
      "source": [
        "# Base class for a course\n",
        "class Course:\n",
        "    def __init__(self, course_code, course_name, credit_hours):\n",
        "        self.course_code = course_code\n",
        "        self.course_name = course_name\n",
        "        self.credit_hours = credit_hours\n",
        "\n",
        "    def display_info(self):\n",
        "        print(f\"Course Code: {self.course_code}\")\n",
        "        print(f\"Course Name: {self.course_name}\")\n",
        "        print(f\"Credit Hours: {self.credit_hours}\")\n",
        "\n",
        "# Subclass for core courses\n",
        "class CoreCourse(Course):\n",
        "    def __init__(self, course_code, course_name, credit_hours, required_for_major):\n",
        "        super().__init__(course_code, course_name, credit_hours)\n",
        "        self.required_for_major = required_for_major\n",
        "\n",
        "    def display_info(self):\n",
        "        super().display_info()\n",
        "        print(f\"Required for Major: {'Yes' if self.required_for_major else 'No'}\")\n",
        "\n",
        "# Subclass for elective courses\n",
        "class ElectiveCourse(Course):\n",
        "    def __init__(self, course_code, course_name, credit_hours, elective_type):\n",
        "        super().__init__(course_code, course_name, credit_hours)\n",
        "        self.elective_type = elective_type\n",
        "\n",
        "    def display_info(self):\n",
        "        super().display_info()\n",
        "        print(f\"Elective Type: {self.elective_type}\")\n",
        "\n",
        "    print(\"Core Course:\")\n",
        "    core.display_info()\n",
        "\n",
        "    print(\"\\nElective Course:\")\n",
        "    elective.display_info()\n",
        "\n"
      ]
    },
    {
      "cell_type": "markdown",
      "source": [
        "2. Create a Python module named employee that contains a class Employee with attributes name, salary and methods get_name() and get_salary(). Write a program to use this module to create an object of the Employee class and display its name and salary."
      ],
      "metadata": {
        "id": "xs5hxXRwGy6F"
      }
    },
    {
      "cell_type": "code",
      "source": [
        "# Create the employee.py file with the Employee class definition\n",
        "!echo \"class Employee:\" > employee.py\n",
        "!echo \"    def __init__(self, name, salary):\" >> employee.py\n",
        "!echo \"        self.name = name\" >> employee.py\n",
        "!echo \"        self.salary = salary\" >> employee.py\n",
        "!echo \"\" >> employee.py\n",
        "!echo \"    def get_name(self):\" >> employee.py\n",
        "!echo \"        return self.name\" >> employee.py\n",
        "!echo \"\" >> employee.py\n",
        "!echo \"    def get_salary(self):\" >> employee.py\n",
        "!echo \"        return self.salary\" >> employee.py\n",
        "\n",
        "# Import the Employee class from the employee module\n",
        "from employee import Employee\n",
        "\n",
        "# Create an Employee object\n",
        "emp = Employee(\"Alice\", 55000)\n",
        "\n",
        "# Display name and salary\n",
        "print(\"Employee Name:\", emp.get_name())\n",
        "print(\"Employee Salary:\", emp.get_salary())"
      ],
      "metadata": {
        "colab": {
          "base_uri": "https://localhost:8080/"
        },
        "id": "2PDn5RKVwLkU",
        "outputId": "79063a20-7d40-4012-931f-8eac4cf8b209"
      },
      "execution_count": 20,
      "outputs": [
        {
          "output_type": "stream",
          "name": "stdout",
          "text": [
            "Employee Name: Alice\n",
            "Employee Salary: 55000\n"
          ]
        }
      ]
    }
  ]
}