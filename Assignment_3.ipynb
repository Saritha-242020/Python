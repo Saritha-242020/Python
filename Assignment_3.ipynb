{
  "nbformat": 4,
  "nbformat_minor": 0,
  "metadata": {
    "colab": {
      "provenance": []
    },
    "kernelspec": {
      "name": "python3",
      "display_name": "Python 3"
    },
    "language_info": {
      "name": "python"
    }
  },
  "cells": [
    {
      "cell_type": "markdown",
      "source": [
        "1. Write a program that reads an integer value between 1 and 12 from the user and prints output the corresponding month of the year.\n"
      ],
      "metadata": {
        "id": "ijXOktHaSHvR"
      }
    },
    {
      "cell_type": "code",
      "execution_count": 9,
      "metadata": {
        "id": "hmA7JHw-RZY7",
        "colab": {
          "base_uri": "https://localhost:8080/"
        },
        "outputId": "a3ebf71d-7498-4d3d-9b82-131a956f893e"
      },
      "outputs": [
        {
          "output_type": "stream",
          "name": "stdout",
          "text": [
            "Enter the month: 2\n",
            "Month 2 is February\n"
          ]
        }
      ],
      "source": [
        "month_names = [\"January\", \"February\", \"March\", \"April\", \"May\", \"June\",\n",
        "               \"July\", \"August\", \"September\", \"October\", \"November\", \"December\"]\n",
        "\n",
        "month = int(input(\"Enter the month: \"))\n",
        "\n",
        "if 1 <= month <= 12:\n",
        "    print(f\"Month {month} is {month_names[month - 1]}\")\n",
        "else:\n",
        "    print(\"Invalid month. Please enter a number between 1 and 12.\")"
      ]
    },
    {
      "cell_type": "markdown",
      "source": [
        "2. A certain cinema currently sells tickets for a full price of 6 pounds, but always sells tickets for half price to people who are less than 16 years old, and for a third of the price for people who are 60 years old or more.\n"
      ],
      "metadata": {
        "id": "JYe1vh1JQfsZ"
      }
    },
    {
      "cell_type": "code",
      "source": [
        "age = int(input(\"Enter your age: \"))\n",
        "full_price = 6\n",
        "\n",
        "if age < 16:\n",
        "    ticket_price = full_price / 2\n",
        "elif age >= 60:\n",
        "    ticket_price = full_price / 3\n",
        "else:\n",
        "    ticket_price = full_price\n",
        "\n",
        "print(f\"Your ticket costs £{ticket_price:.2f}\")"
      ],
      "metadata": {
        "colab": {
          "base_uri": "https://localhost:8080/"
        },
        "id": "sX1FCNlNP6MH",
        "outputId": "f9fc132c-849c-4cee-9145-a74b67ea2398"
      },
      "execution_count": 10,
      "outputs": [
        {
          "output_type": "stream",
          "name": "stdout",
          "text": [
            "Enter your age: 22\n",
            "Your ticket costs £6.00\n"
          ]
        }
      ]
    },
    {
      "cell_type": "markdown",
      "source": [
        "3. Write a program to calculate your BMI and give weight status. Body Mass Index (BMI) is an internationally used measurement to check if you are a healthy weight for your height.The metric BMI formula accepts weight in kilograms and height in meters:\n",
        "BMI= weight(kg)/height2(m2)\n",
        "BMI Weight Status Categories table\n",
        "BMI range - kg/m2   Category\n",
        "Below 18.5 Underweight\n",
        "18.5 -24.9         Normal\n",
        "25 - 29.9          Overweight\n",
        "30 & Above     Obese\n"
      ],
      "metadata": {
        "id": "C4OJPVwxXVaG"
      }
    },
    {
      "cell_type": "code",
      "source": [
        "weight = float(input(\"Enter your weight in (kg): \"))\n",
        "height = float(input(\"Enter your height in (m): \"))\n",
        "\n",
        "bmi = weight / (height ** 2)\n",
        "print(f\"Your BMI is: {bmi:.2f}\")\n",
        "\n",
        "if bmi < 18.5:\n",
        "    status = \"Underweight\"\n",
        "elif 18.5 <= bmi < 25:\n",
        "    status = \"Normal\"\n",
        "elif 25 <= bmi < 30:\n",
        "    status = \"Overweight\"\n",
        "else:\n",
        "    status = \"Obese\"\n",
        "\n",
        "print(f\"You are in the \\\"{status}\\\" range.\")\n"
      ],
      "metadata": {
        "colab": {
          "base_uri": "https://localhost:8080/"
        },
        "id": "rrzH3tbmXOgF",
        "outputId": "622cad58-c805-481b-a845-4a129ff52ac0"
      },
      "execution_count": 11,
      "outputs": [
        {
          "output_type": "stream",
          "name": "stdout",
          "text": [
            "Enter your weight in (kg): 50\n",
            "Enter your height in (m): 144\n",
            "Your BMI is: 0.00\n",
            "You are in the \"Underweight\" range.\n"
          ]
        }
      ]
    },
    {
      "cell_type": "markdown",
      "source": [
        "4. Write a Python program to receive 3 numbers from the user and print the greatest among them.\n",
        "\n"
      ],
      "metadata": {
        "id": "q5Zq-aj0Yq-7"
      }
    },
    {
      "cell_type": "code",
      "source": [
        "num1 = float(input(\"Enter first number: \"))\n",
        "num2 = float(input(\"Enter second number: \"))\n",
        "num3 = float(input(\"Enter third number: \"))\n",
        "\n",
        "greatest = max(num1, num2, num3)\n",
        "print(f\"The greatest number is {greatest}\")\n"
      ],
      "metadata": {
        "colab": {
          "base_uri": "https://localhost:8080/"
        },
        "id": "AOhgPPIEYeEW",
        "outputId": "a3dc9a35-9e66-4eb7-edab-2b8bd43f0fe6"
      },
      "execution_count": 12,
      "outputs": [
        {
          "output_type": "stream",
          "name": "stdout",
          "text": [
            "Enter first number: 5\n",
            "Enter second number: 8\n",
            "Enter third number: 3\n",
            "The greatest number is 8.0\n"
          ]
        }
      ]
    },
    {
      "cell_type": "markdown",
      "source": [
        "5. Find the factorial of a given number using loops(note the number is received from the user)\n",
        "\n"
      ],
      "metadata": {
        "id": "RQzSAduEZQrU"
      }
    },
    {
      "cell_type": "code",
      "source": [
        "num = int(input(\"Enter a number: \"))\n",
        "factorial = 1\n",
        "\n",
        "if num < 0:\n",
        "    print(\"Factorial is not defined for negative numbers.\")\n",
        "else:\n",
        "    for i in range(1, num + 1):\n",
        "        factorial *= i\n",
        "    print(f\"Factorial of {num} is {factorial}\")\n"
      ],
      "metadata": {
        "colab": {
          "base_uri": "https://localhost:8080/"
        },
        "id": "cOxyiEjHZMAX",
        "outputId": "3690e3c0-46d2-4148-8219-9e36a4721884"
      },
      "execution_count": 13,
      "outputs": [
        {
          "output_type": "stream",
          "name": "stdout",
          "text": [
            "Enter a number: 5\n",
            "Factorial of 5 is 120\n"
          ]
        }
      ]
    },
    {
      "cell_type": "markdown",
      "source": [
        "6. Reverse a number using while loop"
      ],
      "metadata": {
        "id": "DM5WpkFMZtBq"
      }
    },
    {
      "cell_type": "code",
      "source": [
        "num = int(input(\"Enter a number: \"))\n",
        "reversed_num = 0\n",
        "\n",
        "while num > 0:\n",
        "    digit = num % 10\n",
        "    reversed_num = reversed_num * 10 + digit\n",
        "    num //= 10\n",
        "\n",
        "print(f\"Reversed number is {reversed_num}\")\n",
        "\n"
      ],
      "metadata": {
        "colab": {
          "base_uri": "https://localhost:8080/"
        },
        "id": "LkW1X2IGZma7",
        "outputId": "cb3800d5-14e1-4f3d-d830-39358a7b626e"
      },
      "execution_count": 15,
      "outputs": [
        {
          "output_type": "stream",
          "name": "stdout",
          "text": [
            "Enter a number: 25\n",
            "Reversed number is 52\n"
          ]
        }
      ]
    },
    {
      "cell_type": "markdown",
      "source": [
        "7. Finding the multiples of a number using loop"
      ],
      "metadata": {
        "id": "0_GgWQc4Z76h"
      }
    },
    {
      "cell_type": "code",
      "source": [
        "number = int(input(\"Enter number: \"))\n",
        "\n",
        "print(\"The multiples are: \")\n",
        "for i in range(1,11):\n",
        "    print(number*i,end=' ')\n"
      ],
      "metadata": {
        "colab": {
          "base_uri": "https://localhost:8080/"
        },
        "id": "nF_AfbmDZryp",
        "outputId": "1bddcb3b-fd23-4890-9a14-fb156bcef0da"
      },
      "execution_count": 21,
      "outputs": [
        {
          "output_type": "stream",
          "name": "stdout",
          "text": [
            "Enter number: 7\n",
            "The multiples are: \n",
            "7 14 21 28 35 42 49 56 63 70 "
          ]
        }
      ]
    },
    {
      "cell_type": "markdown",
      "source": [
        "8. Write a program to print the inputted value as it is and break the loop if the value is 'done'.\n"
      ],
      "metadata": {
        "id": "y-5D9tXQb90Q"
      }
    },
    {
      "cell_type": "code",
      "source": [
        "while True:\n",
        "    user_input = input(\"Enter a value:\")\n",
        "    print(user_input)\n",
        "    if user_input.lower() == \"done\":\n",
        "        break\n"
      ],
      "metadata": {
        "colab": {
          "base_uri": "https://localhost:8080/"
        },
        "id": "fgWONyoAaQ7q",
        "outputId": "e53ee2a4-a1eb-48a5-9409-e65fb6c60b64"
      },
      "execution_count": 23,
      "outputs": [
        {
          "output_type": "stream",
          "name": "stdout",
          "text": [
            "Enter a value:hello there\n",
            "hello there\n",
            "Enter a value:finished\n",
            "finished\n",
            "Enter a value:done\n",
            "done\n"
          ]
        }
      ]
    },
    {
      "cell_type": "markdown",
      "source": [
        "9. Write a program that prints the numbers from 1 to 10. But for multiples of three print \"Fizz\" instead of the number and for the multiple of five print \"Buzz\". For numbers which are multiples of both three and five print \"FizzBuzz\"\n"
      ],
      "metadata": {
        "id": "3Srwh6-0dHAQ"
      }
    },
    {
      "cell_type": "code",
      "source": [
        "for i in range(1, 11):\n",
        "    if i % 3 == 0 and i % 5 == 0:\n",
        "        print(\"FizzBuzz\")\n",
        "    elif i % 3 == 0:\n",
        "        print(\"Fizz\")\n",
        "    elif i % 5 == 0:\n",
        "        print(\"Buzz\")\n",
        "    else:\n",
        "        print(i)\n"
      ],
      "metadata": {
        "colab": {
          "base_uri": "https://localhost:8080/"
        },
        "id": "v8JF415QcpKj",
        "outputId": "ce941a94-1e50-4d6e-c967-c8464aa1b3ec"
      },
      "execution_count": 24,
      "outputs": [
        {
          "output_type": "stream",
          "name": "stdout",
          "text": [
            "1\n",
            "2\n",
            "Fizz\n",
            "4\n",
            "Buzz\n",
            "Fizz\n",
            "7\n",
            "8\n",
            "Fizz\n",
            "Buzz\n"
          ]
        }
      ]
    },
    {
      "cell_type": "markdown",
      "source": [
        "10. Write a program to print the following pattern:\n",
        "\n",
        "5 4 3 2 1\n",
        "4 3 2 1\n",
        "3 2 1\n",
        "2 1\n",
        "1\n"
      ],
      "metadata": {
        "id": "85ggLGFZderK"
      }
    },
    {
      "cell_type": "code",
      "source": [
        "for i in range(5, 0, -1):\n",
        "    for j in range(i, 0, -1):\n",
        "        print(j, end=\" \")\n",
        "    print()\n"
      ],
      "metadata": {
        "colab": {
          "base_uri": "https://localhost:8080/"
        },
        "id": "gPBY_B8fdXLj",
        "outputId": "8834154d-a87c-4e0b-d914-dfffdc1f462c"
      },
      "execution_count": 25,
      "outputs": [
        {
          "output_type": "stream",
          "name": "stdout",
          "text": [
            "5 4 3 2 1 \n",
            "4 3 2 1 \n",
            "3 2 1 \n",
            "2 1 \n",
            "1 \n"
          ]
        }
      ]
    },
    {
      "cell_type": "code",
      "source": [],
      "metadata": {
        "id": "ST0WfjbyebxD"
      },
      "execution_count": null,
      "outputs": []
    }
  ]
}