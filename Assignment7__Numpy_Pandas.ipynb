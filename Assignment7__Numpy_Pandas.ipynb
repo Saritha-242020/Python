{
  "nbformat": 4,
  "nbformat_minor": 0,
  "metadata": {
    "colab": {
      "provenance": [],
      "authorship_tag": "ABX9TyNcwUQNIvqUeBN+wBChMHhy",
      "include_colab_link": true
    },
    "kernelspec": {
      "name": "python3",
      "display_name": "Python 3"
    },
    "language_info": {
      "name": "python"
    }
  },
  "cells": [
    {
      "cell_type": "markdown",
      "metadata": {
        "id": "view-in-github",
        "colab_type": "text"
      },
      "source": [
        "<a href=\"https://colab.research.google.com/github/Saritha-242020/Python/blob/main/Assignment7__Numpy_Pandas.ipynb\" target=\"_parent\"><img src=\"https://colab.research.google.com/assets/colab-badge.svg\" alt=\"Open In Colab\"/></a>"
      ]
    },
    {
      "cell_type": "code",
      "execution_count": 1,
      "metadata": {
        "id": "eXCJ7m1HhCdM"
      },
      "outputs": [],
      "source": [
        "import numpy as np\n",
        "import pandas as pd\n"
      ]
    },
    {
      "cell_type": "markdown",
      "source": [
        "#1. Create a numpy array containing the numbers from 1 to 10, and then reshape it to a 2x5 matrix."
      ],
      "metadata": {
        "id": "_1IeWGXNeotB"
      }
    },
    {
      "cell_type": "code",
      "source": [
        "arr1 = np.arange(1, 11)\n",
        "reshaped_arr1 = arr1.reshape((2, 5))\n",
        "print(\"Matrix:\\n\", reshaped_arr1)"
      ],
      "metadata": {
        "colab": {
          "base_uri": "https://localhost:8080/"
        },
        "id": "8T-UGvB3ehAN",
        "outputId": "16ca8621-446f-479b-fd75-af04a89185d5"
      },
      "execution_count": 2,
      "outputs": [
        {
          "output_type": "stream",
          "name": "stdout",
          "text": [
            "Matrix:\n",
            " [[ 1  2  3  4  5]\n",
            " [ 6  7  8  9 10]]\n"
          ]
        }
      ]
    },
    {
      "cell_type": "markdown",
      "source": [
        "#2. Create a numpy array containing the numbers from 1 to 20, and then extract the elements between the 5th and 15th index.\n"
      ],
      "metadata": {
        "id": "et-7CTnqfCN0"
      }
    },
    {
      "cell_type": "code",
      "source": [
        "arr2 = np.arange(1, 21)\n",
        "extracted = arr2[5:16]\n",
        "print(\"\\nArray:\\n\", extracted)"
      ],
      "metadata": {
        "colab": {
          "base_uri": "https://localhost:8080/"
        },
        "id": "jPG1U3Wde-ka",
        "outputId": "b5a23326-39bb-4f97-b2bd-8497f116aac9"
      },
      "execution_count": 3,
      "outputs": [
        {
          "output_type": "stream",
          "name": "stdout",
          "text": [
            "\n",
            "Array:\n",
            " [ 6  7  8  9 10 11 12 13 14 15 16]\n"
          ]
        }
      ]
    },
    {
      "cell_type": "markdown",
      "source": [
        "#3. Create a Pandas series with the following data: {'apples': 3, 'bananas': 2, 'oranges': 1}. Then, add a new item to the series with the key 'pears' and the value 4.\n"
      ],
      "metadata": {
        "id": "GmRAwaKhfmeo"
      }
    },
    {
      "cell_type": "code",
      "source": [
        "fruit_series = pd.Series({'apples': 3, 'bananas': 2, 'oranges': 1})\n",
        "fruit_series['pears'] = 4\n",
        "print(\"\\nFruits:\\n\", fruit_series)"
      ],
      "metadata": {
        "colab": {
          "base_uri": "https://localhost:8080/"
        },
        "id": "dM-Vmc-mfjN-",
        "outputId": "291a898a-2b39-4dd2-c2ff-d9385c4b699e"
      },
      "execution_count": 4,
      "outputs": [
        {
          "output_type": "stream",
          "name": "stdout",
          "text": [
            "\n",
            "Fruits:\n",
            " apples     3\n",
            "bananas    2\n",
            "oranges    1\n",
            "pears      4\n",
            "dtype: int64\n"
          ]
        }
      ]
    },
    {
      "cell_type": "markdown",
      "source": [
        "#4. Create a dataframe with the following columns: name, age, and gender. The dataframe should have 10 rows of data.\n"
      ],
      "metadata": {
        "id": "YSPD0LjygJBH"
      }
    },
    {
      "cell_type": "code",
      "source": [
        "data = {\n",
        "    'name': [f'Person{i}' for i in range(1, 11)],\n",
        "    'age': [25, 30, 22, 40, 35, 28, 33, 26, 31, 29],\n",
        "    'gender': ['Male', 'Female', 'Male', 'Female', 'Male', 'Female', 'Male', 'Female', 'Male', 'Female']\n",
        "}\n",
        "df = pd.DataFrame(data)\n",
        "print(\"\\nData:\\n\", df)\n"
      ],
      "metadata": {
        "colab": {
          "base_uri": "https://localhost:8080/"
        },
        "id": "2bRdMfJDgEhg",
        "outputId": "7ef98f1f-389d-4f63-dfa8-d06f61e3b0c4"
      },
      "execution_count": 6,
      "outputs": [
        {
          "output_type": "stream",
          "name": "stdout",
          "text": [
            "\n",
            "Data:\n",
            "        name  age  gender\n",
            "0   Person1   25    Male\n",
            "1   Person2   30  Female\n",
            "2   Person3   22    Male\n",
            "3   Person4   40  Female\n",
            "4   Person5   35    Male\n",
            "5   Person6   28  Female\n",
            "6   Person7   33    Male\n",
            "7   Person8   26  Female\n",
            "8   Person9   31    Male\n",
            "9  Person10   29  Female\n"
          ]
        }
      ]
    },
    {
      "cell_type": "markdown",
      "source": [
        "#5. Add a new column to the data frame created in question 1, called occupation. The values for this column should be Programmer, Manager, and Analyst, corresponding to the rows in the dataframe.\n"
      ],
      "metadata": {
        "id": "Z_FLGCHagm2R"
      }
    },
    {
      "cell_type": "code",
      "source": [
        "occupations = ['Programmer', 'Manager', 'Analyst', 'Programmer', 'Manager',\n",
        "               'Analyst', 'Programmer', 'Manager', 'Analyst', 'Programmer']\n",
        "df['occupation'] = occupations\n",
        "print(\"\\nPosition\\n\", df)\n"
      ],
      "metadata": {
        "colab": {
          "base_uri": "https://localhost:8080/"
        },
        "id": "MJsNLQlxga_Y",
        "outputId": "63969a34-3827-482c-82b8-3427d297b5b9"
      },
      "execution_count": 8,
      "outputs": [
        {
          "output_type": "stream",
          "name": "stdout",
          "text": [
            "\n",
            "Position\n",
            "        name  age  gender  occupation\n",
            "0   Person1   25    Male  Programmer\n",
            "1   Person2   30  Female     Manager\n",
            "2   Person3   22    Male     Analyst\n",
            "3   Person4   40  Female  Programmer\n",
            "4   Person5   35    Male     Manager\n",
            "5   Person6   28  Female     Analyst\n",
            "6   Person7   33    Male  Programmer\n",
            "7   Person8   26  Female     Manager\n",
            "8   Person9   31    Male     Analyst\n",
            "9  Person10   29  Female  Programmer\n"
          ]
        }
      ]
    },
    {
      "cell_type": "markdown",
      "source": [
        "#6.Select the rows of the dataframe where the age is greater than or equal to 30.\n"
      ],
      "metadata": {
        "id": "ONRGfs_qhdgv"
      }
    },
    {
      "cell_type": "code",
      "source": [
        "age_filtered_df = df[df['age'] >= 30]\n",
        "print(\"\\nList of people whose age greater than 30:\\n\", age_filtered_df)"
      ],
      "metadata": {
        "colab": {
          "base_uri": "https://localhost:8080/"
        },
        "id": "c2Rtq9R2hVH9",
        "outputId": "70d9a240-cce4-45dd-b5ca-c34e5fea3bdc"
      },
      "execution_count": 10,
      "outputs": [
        {
          "output_type": "stream",
          "name": "stdout",
          "text": [
            "\n",
            "List of people whose age greater than 30:\n",
            "       name  age  gender  occupation\n",
            "1  Person2   30  Female     Manager\n",
            "3  Person4   40  Female  Programmer\n",
            "4  Person5   35    Male     Manager\n",
            "6  Person7   33    Male  Programmer\n",
            "8  Person9   31    Male     Analyst\n"
          ]
        }
      ]
    },
    {
      "cell_type": "markdown",
      "source": [
        "#7. Convert this dataframe to a csv file and read that csv file, finally display the contents.\n"
      ],
      "metadata": {
        "id": "ksrzAPCYh80d"
      }
    },
    {
      "cell_type": "code",
      "source": [
        "csv_path = 'dataframe_output.csv'\n",
        "df.to_csv(csv_path, index=False)\n",
        "\n",
        "# Read the CSV file\n",
        "df_from_csv = pd.read_csv(csv_path)\n",
        "print(\"\\nCSV file:\\n\", df_from_csv)\n"
      ],
      "metadata": {
        "colab": {
          "base_uri": "https://localhost:8080/"
        },
        "id": "zwngRndHhuD7",
        "outputId": "c9c99c31-afa7-45cd-ced2-b0f4951321c3"
      },
      "execution_count": 11,
      "outputs": [
        {
          "output_type": "stream",
          "name": "stdout",
          "text": [
            "\n",
            "CSV file:\n",
            "        name  age  gender  occupation\n",
            "0   Person1   25    Male  Programmer\n",
            "1   Person2   30  Female     Manager\n",
            "2   Person3   22    Male     Analyst\n",
            "3   Person4   40  Female  Programmer\n",
            "4   Person5   35    Male     Manager\n",
            "5   Person6   28  Female     Analyst\n",
            "6   Person7   33    Male  Programmer\n",
            "7   Person8   26  Female     Manager\n",
            "8   Person9   31    Male     Analyst\n",
            "9  Person10   29  Female  Programmer\n"
          ]
        }
      ]
    },
    {
      "cell_type": "code",
      "source": [],
      "metadata": {
        "id": "-rKLq_GmiS0d"
      },
      "execution_count": null,
      "outputs": []
    }
  ]
}